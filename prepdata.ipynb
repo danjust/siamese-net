{
 "cells": [
  {
   "cell_type": "code",
   "execution_count": 1,
   "metadata": {},
   "outputs": [
    {
     "data": {
      "text/plain": [
       "\"Script to preprocess the omniglot dataset and pickle it into an array that's easy\\n    to index my character type\""
      ]
     },
     "execution_count": 1,
     "metadata": {},
     "output_type": "execute_result"
    }
   ],
   "source": [
    "import sys\n",
    "import numpy as np\n",
    "import imageio\n",
    "import pickle\n",
    "import os\n",
    "import matplotlib.pyplot as plt\n",
    "import argparse\n",
    "from zipfile import ZipFile\n",
    "\"\"\"Script to preprocess the omniglot dataset and pickle it into an array that's easy\n",
    "    to index my character type\"\"\""
   ]
  },
  {
   "cell_type": "code",
   "execution_count": 2,
   "metadata": {},
   "outputs": [],
   "source": [
    "data_path = 'data_omniglot/'\n",
    "save_path = 'data_omniglot'\n",
    "\n",
    "lang_dict = {}"
   ]
  },
  {
   "cell_type": "code",
   "execution_count": 3,
   "metadata": {},
   "outputs": [],
   "source": [
    "def loadimgs(path,file,n=0):\n",
    "    #if data not already unzipped, unzip it.\n",
    "    filepath = os.path.join(path,file)\n",
    "    if not os.path.exists(filepath):\n",
    "        print(\"unzipping\")\n",
    "        os.system(\"unzip {}\".format(path+\".zip\" ))\n",
    "        with ZipFile('{}.zip'.format(filepath), 'r') as zip_ref:\n",
    "            zip_ref.extractall('{}'.format(path))\n",
    "    imgs = []\n",
    "    #we load every alphabet seperately so we can isolate them later\n",
    "    for alphabet in os.listdir(filepath):\n",
    "        if not alphabet[0] =='.':\n",
    "            print(\"loading alphabet: \" + alphabet)\n",
    "            alphabet_path = os.path.join(filepath,alphabet)\n",
    "            #every letter/category has it's own column in the array, so  load seperately\n",
    "            for letter in os.listdir(alphabet_path):\n",
    "                category_images=[]\n",
    "                letter_path = os.path.join(alphabet_path, letter)\n",
    "                for filename in os.listdir(letter_path):\n",
    "                    image_path = os.path.join(letter_path, filename)\n",
    "                    image = imageio.imread(image_path)\n",
    "                    category_images.append(image)\n",
    "                try:\n",
    "                    imgs.append(np.stack(category_images))\n",
    "                #edge case  - last one\n",
    "                except ValueError as e:\n",
    "                    print(e)\n",
    "                    print(\"error - category_images:\", category_images)\n",
    "    imgs = np.stack(imgs)\n",
    "    return imgs"
   ]
  },
  {
   "cell_type": "code",
   "execution_count": 4,
   "metadata": {},
   "outputs": [
    {
     "name": "stdout",
     "output_type": "stream",
     "text": [
      "loading alphabet: Armenian\n",
      "loading alphabet: Hebrew\n",
      "loading alphabet: Arcadian\n",
      "loading alphabet: Grantha\n",
      "loading alphabet: Syriac_(Estrangelo)\n",
      "loading alphabet: Braille\n",
      "loading alphabet: Malay_(Jawi_-_Arabic)\n",
      "loading alphabet: Ojibwe_(Canadian_Aboriginal_Syllabics)\n",
      "loading alphabet: Korean\n",
      "loading alphabet: Mkhedruli_(Georgian)\n",
      "loading alphabet: Alphabet_of_the_Magi\n",
      "loading alphabet: Japanese_(katakana)\n",
      "loading alphabet: Tifinagh\n",
      "loading alphabet: Cyrillic\n",
      "loading alphabet: Latin\n",
      "loading alphabet: Futurama\n",
      "loading alphabet: Balinese\n",
      "loading alphabet: Gujarati\n",
      "loading alphabet: Blackfoot_(Canadian_Aboriginal_Syllabics)\n",
      "loading alphabet: Tagalog\n",
      "loading alphabet: Greek\n",
      "loading alphabet: Inuktitut_(Canadian_Aboriginal_Syllabics)\n",
      "loading alphabet: Asomtavruli_(Georgian)\n",
      "loading alphabet: N_Ko\n",
      "loading alphabet: Burmese_(Myanmar)\n",
      "loading alphabet: Bengali\n",
      "loading alphabet: Anglo-Saxon_Futhorc\n",
      "loading alphabet: Early_Aramaic\n",
      "loading alphabet: Sanskrit\n",
      "loading alphabet: Japanese_(hiragana)\n"
     ]
    }
   ],
   "source": [
    "imgs_train = loadimgs(data_path,'images_background')"
   ]
  },
  {
   "cell_type": "code",
   "execution_count": 5,
   "metadata": {},
   "outputs": [],
   "source": [
    "with open(os.path.join(save_path,\"train.pickle\"), \"wb\") as file:\n",
    "    pickle.dump(imgs_train,file)"
   ]
  },
  {
   "cell_type": "code",
   "execution_count": 6,
   "metadata": {},
   "outputs": [
    {
     "name": "stdout",
     "output_type": "stream",
     "text": [
      "loading alphabet: Gurmukhi\n",
      "loading alphabet: Tibetan\n",
      "loading alphabet: Kannada\n",
      "loading alphabet: Malayalam\n",
      "loading alphabet: Sylheti\n",
      "loading alphabet: Manipuri\n",
      "loading alphabet: Atlantean\n",
      "loading alphabet: Oriya\n",
      "loading alphabet: ULOG\n",
      "loading alphabet: Tengwar\n",
      "loading alphabet: Keble\n",
      "loading alphabet: Old_Church_Slavonic_(Cyrillic)\n",
      "loading alphabet: Glagolitic\n",
      "loading alphabet: Syriac_(Serto)\n",
      "loading alphabet: Mongolian\n",
      "loading alphabet: Angelic\n",
      "loading alphabet: Aurek-Besh\n",
      "loading alphabet: Atemayar_Qelisayer\n",
      "loading alphabet: Avesta\n",
      "loading alphabet: Ge_ez\n"
     ]
    }
   ],
   "source": [
    "imgs_val = loadimgs(data_path,'images_evaluation')"
   ]
  },
  {
   "cell_type": "code",
   "execution_count": 7,
   "metadata": {},
   "outputs": [],
   "source": [
    "with open(os.path.join(save_path,\"val.pickle\"), \"wb\") as file:\n",
    "    pickle.dump(imgs_val,file)"
   ]
  },
  {
   "cell_type": "code",
   "execution_count": null,
   "metadata": {},
   "outputs": [],
   "source": []
  }
 ],
 "metadata": {
  "kernelspec": {
   "display_name": "Python 3",
   "language": "python",
   "name": "python3"
  },
  "language_info": {
   "codemirror_mode": {
    "name": "ipython",
    "version": 3
   },
   "file_extension": ".py",
   "mimetype": "text/x-python",
   "name": "python",
   "nbconvert_exporter": "python",
   "pygments_lexer": "ipython3",
   "version": "3.5.2"
  }
 },
 "nbformat": 4,
 "nbformat_minor": 2
}

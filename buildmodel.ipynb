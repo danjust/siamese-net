{
 "cells": [
  {
   "cell_type": "code",
   "execution_count": 1,
   "metadata": {
    "collapsed": true
   },
   "outputs": [],
   "source": [
    "import tensorflow as tf\n",
    "import numpy as np\n",
    "import os\n",
    "import pickle\n",
    "import matplotlib.pyplot as plt"
   ]
  },
  {
   "cell_type": "code",
   "execution_count": 2,
   "metadata": {
    "collapsed": true
   },
   "outputs": [],
   "source": [
    "save_path = '/Users/djustus/workspace/siamese/'"
   ]
  },
  {
   "cell_type": "code",
   "execution_count": 3,
   "metadata": {
    "collapsed": true
   },
   "outputs": [],
   "source": [
    "with open(os.path.join(save_path,\"train.pickle\"), \"rb\") as file:\n",
    "    imgs_train = pickle.load(file)"
   ]
  },
  {
   "cell_type": "code",
   "execution_count": 4,
   "metadata": {},
   "outputs": [
    {
     "data": {
      "text/plain": [
       "(15, 20, 105, 105)"
      ]
     },
     "execution_count": 4,
     "metadata": {},
     "output_type": "execute_result"
    }
   ],
   "source": [
    "np.array(imgs_train[0:900][0:15]).shape"
   ]
  },
  {
   "cell_type": "code",
   "execution_count": 5,
   "metadata": {
    "collapsed": true
   },
   "outputs": [],
   "source": [
    "def getbatch(imgs, batchsize):\n",
    "    num_per_char = imgs[0].shape[0]\n",
    "    diffchar = np.random.randint(0,2,batchsize)\n",
    "    batch = np.zeros([2,batchsize,105,105,1])\n",
    "    for i in range(batchsize):\n",
    "        refchar = np.random.randint(964)\n",
    "        refiter = np.random.randint(num_per_char)\n",
    "        if diffchar[i] == 0:\n",
    "            compchar = refchar\n",
    "            compiter = np.random.choice(np.setdiff1d(np.arange(num_per_char),[refiter]))\n",
    "        else:\n",
    "            compchar = np.random.choice(np.setdiff1d(np.arange(964),[refchar]))\n",
    "            compiter = np.random.randint(num_per_char)\n",
    "        batch[0,i,:,:,0] = imgs[refchar][refiter]    \n",
    "        batch[1,i,:,:,0] = imgs[compchar][compiter]  \n",
    "    return batch, np.reshape(diffchar,[-1,1])"
   ]
  },
  {
   "cell_type": "code",
   "execution_count": 10,
   "metadata": {
    "collapsed": true
   },
   "outputs": [],
   "source": [
    "def convnet(inputs,reuse=False):\n",
    "\n",
    "    with tf.variable_scope('conv1',reuse=reuse):\n",
    "        conv1_1 = tf.layers.conv2d(inputs = inputs,\n",
    "                                   filters = 64,\n",
    "                                   kernel_size = 3,\n",
    "                                   strides = [1,1],\n",
    "                                   padding = 'SAME',\n",
    "                                   activation = tf.nn.relu)\n",
    "        \n",
    "    pool1 = tf.layers.max_pooling2d(inputs = conv1_1,\n",
    "                                    pool_size = 2,\n",
    "                                    strides = 2,\n",
    "                                    padding = 'VALID')\n",
    "    \n",
    "    with tf.variable_scope('conv2',reuse=reuse):\n",
    "        conv2 = tf.layers.conv2d(inputs = pool1,\n",
    "                                   filters = 128,\n",
    "                                   kernel_size = 3,\n",
    "                                   strides = [1,1],\n",
    "                                   padding = 'SAME',\n",
    "                                   activation = tf.nn.relu)\n",
    "\n",
    "    pool2 = tf.layers.max_pooling2d(inputs = conv2,\n",
    "                                    pool_size = 2,\n",
    "                                    strides = 2,\n",
    "                                    padding = 'VALID')\n",
    "    \n",
    "    with tf.variable_scope('conv3',reuse=reuse):\n",
    "        conv3 = tf.layers.conv2d(inputs = pool2,\n",
    "                                   filters = 256,\n",
    "                                   kernel_size = 3,\n",
    "                                   strides = [1,1],\n",
    "                                   padding = 'SAME',\n",
    "                                   activation = tf.nn.relu)\n",
    "        \n",
    "    pool3 = tf.layers.max_pooling2d(inputs = conv3,\n",
    "                                    pool_size = 2,\n",
    "                                    strides = 2,\n",
    "                                    padding = 'VALID')\n",
    "\n",
    "    with tf.variable_scope('conv4',reuse=reuse):\n",
    "        conv4 = tf.layers.conv2d(inputs = pool3,\n",
    "                                   filters = 512,\n",
    "                                   kernel_size = 3,\n",
    "                                   strides = [1,1],\n",
    "                                   padding = 'SAME',\n",
    "                                   activation = tf.nn.relu)\n",
    "\n",
    "    pool4 = tf.layers.max_pooling2d(inputs = conv4,\n",
    "                                    pool_size = 2,\n",
    "                                    strides = 2,\n",
    "                                    padding = 'VALID')\n",
    "    \n",
    "    with tf.variable_scope('conv5',reuse=reuse):\n",
    "        conv5 = tf.layers.conv2d(inputs = pool4,\n",
    "                                   filters = 512,\n",
    "                                   kernel_size = 6,\n",
    "                                   strides = [1,1],\n",
    "                                   padding = 'VALID',\n",
    "                                   activation = tf.nn.relu)\n",
    "    \n",
    "    flat = tf.layers.flatten(conv5)\n",
    "    \n",
    "    \n",
    "    with tf.variable_scope('fc',reuse=reuse):\n",
    "        features = tf.layers.dense(inputs=flat, use_bias=False, units=2048, activation=tf.nn.sigmoid)\n",
    "\n",
    "    return features"
   ]
  },
  {
   "cell_type": "code",
   "execution_count": 11,
   "metadata": {
    "collapsed": true
   },
   "outputs": [],
   "source": [
    "tf.reset_default_graph()"
   ]
  },
  {
   "cell_type": "code",
   "execution_count": 12,
   "metadata": {
    "collapsed": true
   },
   "outputs": [],
   "source": [
    "img1 = tf.placeholder(tf.float32, shape=[None, 105, 105, 1])\n",
    "img2 = tf.placeholder(tf.float32, shape=[None, 105, 105, 1])\n",
    "diffclass = tf.placeholder(tf.float32, shape=[None,1])"
   ]
  },
  {
   "cell_type": "code",
   "execution_count": 13,
   "metadata": {},
   "outputs": [],
   "source": [
    "m = 1\n",
    "\n",
    "features1 = convnet(img1, reuse=False)\n",
    "features2 = convnet(img2, reuse=True)\n",
    "\n",
    "diff = tf.sqrt(tf.reduce_mean(tf.square(features1 - features2),axis=1))\n",
    "diff = tf.reshape(diff,[-1,1])\n",
    "\n",
    "# prediction = tf.layers.dense(inputs = diff, units = 1, use_bias = False)\n",
    "\n",
    "# prediction_sig = tf.sigmoid(prediction)\n",
    "\n",
    "# accuracy = 1 - tf.reduce_mean(tf.abs(tf.round(prediction_sig)-diffclass))\n",
    "\n",
    "loss = tf.reduce_mean((1-diffclass)*diff**2 / 2 + diffclass*(tf.maximum(0.,m-diff))**2/2)\n",
    "# loss = tf.losses.sigmoid_cross_entropy(diffclass,prediction)\n",
    "\n",
    "opt = tf.train.AdamOptimizer(\n",
    "        learning_rate = 0.0001)\n",
    "train_op = opt.minimize(loss)"
   ]
  },
  {
   "cell_type": "code",
   "execution_count": 14,
   "metadata": {
    "collapsed": true
   },
   "outputs": [],
   "source": [
    "saver = tf.train.Saver()"
   ]
  },
  {
   "cell_type": "code",
   "execution_count": 15,
   "metadata": {
    "collapsed": true
   },
   "outputs": [],
   "source": [
    "batchsize = 64\n",
    "trainsteps = 10\n",
    "printstep = 500\n",
    "l = np.zeros(trainsteps)\n",
    "acc = np.zeros(trainsteps)\n",
    "\n",
    "\n",
    "with tf.Session() as sess:\n",
    "    sess.run(tf.global_variables_initializer())\n",
    "    for step in range(trainsteps):\n",
    "        batch, batch_diff = getbatch(imgs_train, batchsize)\n",
    "        _,l[step] = sess.run([train_op,loss], feed_dict={img1: batch[0,:,:,:,:],\n",
    "                                               img2: batch[1,:,:,:,:],\n",
    "                                               diffclass: batch_diff})\n",
    "        if ((step+1)%printstep==0):\n",
    "            print('Step %d: Loss %f, Accuracy %f' % (step,np.mean(l[step-printstep+1:step+1]),\n",
    "                                                     np.mean(acc[step-printstep+1:step+1])))\n",
    "            \n",
    "    saver.save(sess, './checkpoints/model', step)\n",
    "#         print(np.matrix([p[:,0],batch_diff[:,0]]))"
   ]
  },
  {
   "cell_type": "code",
   "execution_count": 16,
   "metadata": {},
   "outputs": [],
   "source": [
    "ckpt = tf.train.get_checkpoint_state(os.path.dirname('checkpoints/model'))"
   ]
  },
  {
   "cell_type": "markdown",
   "metadata": {},
   "source": [
    "## compare image 0 to images 15-19 and find closest match"
   ]
  },
  {
   "cell_type": "code",
   "execution_count": 28,
   "metadata": {
    "collapsed": true
   },
   "outputs": [],
   "source": [
    "find_img = 2"
   ]
  },
  {
   "cell_type": "code",
   "execution_count": 17,
   "metadata": {},
   "outputs": [
    {
     "name": "stdout",
     "output_type": "stream",
     "text": [
      "INFO:tensorflow:Restoring parameters from checkpoints/model-9\n"
     ]
    }
   ],
   "source": [
    "with tf.Session() as sess:\n",
    "    saver.restore(sess, ckpt.model_checkpoint_path)\n",
    "    diff_val=np.zeros([imgs_train.shape[0],5])\n",
    "    for i in range(imgs_train.shape[0]):\n",
    "        for j in range(15,20):\n",
    "            diff_val[i][j-15] = sess.run(diff, feed_dict={img1: np.reshape(imgs_train[find_img,0,:,:],[1,105,105,1]),\n",
    "                                        img2: np.reshape(imgs_train[i,j,:,:],[1,105,105,1])})"
   ]
  },
  {
   "cell_type": "code",
   "execution_count": 24,
   "metadata": {},
   "outputs": [],
   "source": [
    "closest_match = np.argmin(np.mean(diff_val,1))"
   ]
  },
  {
   "cell_type": "code",
   "execution_count": 29,
   "metadata": {},
   "outputs": [
    {
     "data": {
      "text/plain": [
       "array([0.44892621, 0.39704663, 0.40060219, 0.48886657, 0.30532819])"
      ]
     },
     "execution_count": 29,
     "metadata": {},
     "output_type": "execute_result"
    }
   ],
   "source": [
    "diff_val[find_img]"
   ]
  },
  {
   "cell_type": "code",
   "execution_count": 26,
   "metadata": {
    "scrolled": true
   },
   "outputs": [
    {
     "data": {
      "text/plain": [
       "array([0.22672258, 0.21705747, 0.27721566, 0.25376022, 0.29378125])"
      ]
     },
     "execution_count": 26,
     "metadata": {},
     "output_type": "execute_result"
    }
   ],
   "source": [
    "diff_val[closest_match]"
   ]
  },
  {
   "cell_type": "code",
   "execution_count": 23,
   "metadata": {},
   "outputs": [
    {
     "data": {
      "image/png": "[encoded data removed]",
      "text/plain": [
       "<matplotlib.figure.Figure at 0x182e300668>"
      ]
     },
     "metadata": {},
     "output_type": "display_data"
    }
   ],
   "source": [
    "fig, ax = plt.subplots(3,5,figsize=(20,10))\n",
    "ax[0,0].imshow(imgs_train[find_img,1,:,:])\n",
    "for i in range(15,20):\n",
    "    ax[1,i-15].imshow(imgs_train[find_img,i,:,:])\n",
    "    ax[2,i-15].imshow(imgs_train[closest_match,i,:,:])  \n",
    "plt.show()"
   ]
  },
  {
   "cell_type": "code",
   "execution_count": null,
   "metadata": {
    "collapsed": true
   },
   "outputs": [],
   "source": []
  }
 ],
 "metadata": {
  "kernelspec": {
   "display_name": "Python 3",
   "language": "python",
   "name": "python3"
  },
  "language_info": {
   "codemirror_mode": {
    "name": "ipython",
    "version": 3
   },
   "file_extension": ".py",
   "mimetype": "text/x-python",
   "name": "python",
   "nbconvert_exporter": "python",
   "pygments_lexer": "ipython3",
   "version": "3.6.3"
  }
 },
 "nbformat": 4,
 "nbformat_minor": 2
}

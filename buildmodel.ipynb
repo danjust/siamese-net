{
 "cells": [
  {
   "cell_type": "code",
   "execution_count": 1,
   "metadata": {},
   "outputs": [],
   "source": [
    "import tensorflow as tf\n",
    "import numpy as np\n",
    "import os\n",
    "import pickle\n",
    "import matplotlib.pyplot as plt"
   ]
  },
  {
   "cell_type": "code",
   "execution_count": 4,
   "metadata": {},
   "outputs": [],
   "source": [
    "save_path = 'data_omniglot/'"
   ]
  },
  {
   "cell_type": "code",
   "execution_count": 5,
   "metadata": {},
   "outputs": [],
   "source": [
    "with open(os.path.join(save_path,\"train.pickle\"), \"rb\") as file:\n",
    "    imgs_train = pickle.load(file)"
   ]
  },
  {
   "cell_type": "code",
   "execution_count": 49,
   "metadata": {},
   "outputs": [],
   "source": [
    "with open(os.path.join(save_path,\"val.pickle\"), \"rb\") as file:\n",
    "    imgs_validate = pickle.load(file)"
   ]
  },
  {
   "cell_type": "code",
   "execution_count": 7,
   "metadata": {},
   "outputs": [],
   "source": [
    "def getbatch(imgs, batchsize):\n",
    "    num_per_char = imgs[0].shape[0]\n",
    "    diffchar = np.random.randint(0,2,batchsize)\n",
    "    batch = np.zeros([2,batchsize,105,105,1])\n",
    "    for i in range(batchsize):\n",
    "        refchar = np.random.randint(964)\n",
    "        refiter = np.random.randint(num_per_char)\n",
    "        if diffchar[i] == 0:\n",
    "            compchar = refchar\n",
    "            compiter = np.random.choice(np.setdiff1d(np.arange(num_per_char),[refiter]))\n",
    "        else:\n",
    "            compchar = np.random.choice(np.setdiff1d(np.arange(964),[refchar]))\n",
    "            compiter = np.random.randint(num_per_char)\n",
    "        batch[0,i,:,:,0] = imgs[refchar][refiter]    \n",
    "        batch[1,i,:,:,0] = imgs[compchar][compiter]  \n",
    "    return batch, np.reshape(diffchar,[-1,1])"
   ]
  },
  {
   "cell_type": "code",
   "execution_count": 8,
   "metadata": {},
   "outputs": [],
   "source": [
    "def convnet(inputs,reuse=False):\n",
    "\n",
    "    with tf.variable_scope('conv1',reuse=reuse):\n",
    "        conv1_1 = tf.layers.conv2d(inputs = inputs,\n",
    "                                   filters = 64,\n",
    "                                   kernel_size = 3,\n",
    "                                   strides = [1,1],\n",
    "                                   padding = 'SAME',\n",
    "                                   activation = tf.nn.relu)\n",
    "        \n",
    "    pool1 = tf.layers.max_pooling2d(inputs = conv1_1,\n",
    "                                    pool_size = 2,\n",
    "                                    strides = 2,\n",
    "                                    padding = 'VALID')\n",
    "    \n",
    "    with tf.variable_scope('conv2',reuse=reuse):\n",
    "        conv2 = tf.layers.conv2d(inputs = pool1,\n",
    "                                   filters = 128,\n",
    "                                   kernel_size = 3,\n",
    "                                   strides = [1,1],\n",
    "                                   padding = 'SAME',\n",
    "                                   activation = tf.nn.relu)\n",
    "\n",
    "    pool2 = tf.layers.max_pooling2d(inputs = conv2,\n",
    "                                    pool_size = 2,\n",
    "                                    strides = 2,\n",
    "                                    padding = 'VALID')\n",
    "    \n",
    "    with tf.variable_scope('conv3',reuse=reuse):\n",
    "        conv3 = tf.layers.conv2d(inputs = pool2,\n",
    "                                   filters = 256,\n",
    "                                   kernel_size = 3,\n",
    "                                   strides = [1,1],\n",
    "                                   padding = 'SAME',\n",
    "                                   activation = tf.nn.relu)\n",
    "        \n",
    "    pool3 = tf.layers.max_pooling2d(inputs = conv3,\n",
    "                                    pool_size = 2,\n",
    "                                    strides = 2,\n",
    "                                    padding = 'VALID')\n",
    "\n",
    "    with tf.variable_scope('conv4',reuse=reuse):\n",
    "        conv4 = tf.layers.conv2d(inputs = pool3,\n",
    "                                   filters = 512,\n",
    "                                   kernel_size = 3,\n",
    "                                   strides = [1,1],\n",
    "                                   padding = 'SAME',\n",
    "                                   activation = tf.nn.relu)\n",
    "\n",
    "    pool4 = tf.layers.max_pooling2d(inputs = conv4,\n",
    "                                    pool_size = 2,\n",
    "                                    strides = 2,\n",
    "                                    padding = 'VALID')\n",
    "    \n",
    "    with tf.variable_scope('conv5',reuse=reuse):\n",
    "        conv5 = tf.layers.conv2d(inputs = pool4,\n",
    "                                   filters = 512,\n",
    "                                   kernel_size = 6,\n",
    "                                   strides = [1,1],\n",
    "                                   padding = 'VALID',\n",
    "                                   activation = tf.nn.relu)\n",
    "    \n",
    "    flat = tf.layers.flatten(conv5)\n",
    "    \n",
    "    \n",
    "    with tf.variable_scope('fc',reuse=reuse):\n",
    "        features = tf.layers.dense(inputs=flat, use_bias=False, units=2048, activation=tf.nn.sigmoid)\n",
    "\n",
    "    return features"
   ]
  },
  {
   "cell_type": "code",
   "execution_count": 9,
   "metadata": {},
   "outputs": [],
   "source": [
    "tf.reset_default_graph()"
   ]
  },
  {
   "cell_type": "code",
   "execution_count": 10,
   "metadata": {},
   "outputs": [],
   "source": [
    "img1 = tf.placeholder(tf.float32, shape=[None, 105, 105, 1])\n",
    "img2 = tf.placeholder(tf.float32, shape=[None, 105, 105, 1])\n",
    "diffclass = tf.placeholder(tf.float32, shape=[None,1])"
   ]
  },
  {
   "cell_type": "code",
   "execution_count": 11,
   "metadata": {},
   "outputs": [],
   "source": [
    "m = 1\n",
    "\n",
    "features1 = convnet(img1, reuse=False)\n",
    "features2 = convnet(img2, reuse=True)\n",
    "\n",
    "diff = tf.sqrt(tf.reduce_mean(tf.square(features1 - features2),axis=1))\n",
    "diff = tf.reshape(diff,[-1,1])\n",
    "\n",
    "loss = tf.reduce_mean((1-diffclass)*diff**2 / 2 + diffclass*(tf.maximum(0.,m-diff))**2/2)\n",
    "\n",
    "opt = tf.train.AdamOptimizer(\n",
    "        learning_rate = 0.0001)\n",
    "train_op = opt.minimize(loss)"
   ]
  },
  {
   "cell_type": "code",
   "execution_count": 12,
   "metadata": {},
   "outputs": [],
   "source": [
    "saver = tf.train.Saver()"
   ]
  },
  {
   "cell_type": "code",
   "execution_count": 15,
   "metadata": {},
   "outputs": [
    {
     "name": "stdout",
     "output_type": "stream",
     "text": [
      "Step 499: Loss 0.083418, Accuracy 0.000000\n",
      "Step 999: Loss 0.066209, Accuracy 0.000000\n",
      "Step 1499: Loss 0.059409, Accuracy 0.000000\n",
      "Step 1999: Loss 0.054738, Accuracy 0.000000\n",
      "Step 2499: Loss 0.051614, Accuracy 0.000000\n",
      "Step 2999: Loss 0.049195, Accuracy 0.000000\n",
      "Step 3499: Loss 0.046991, Accuracy 0.000000\n",
      "Step 3999: Loss 0.045051, Accuracy 0.000000\n",
      "Step 4499: Loss 0.042808, Accuracy 0.000000\n",
      "Step 4999: Loss 0.041114, Accuracy 0.000000\n"
     ]
    }
   ],
   "source": [
    "batchsize = 64\n",
    "trainsteps = 5000\n",
    "printstep = 500\n",
    "l = np.zeros(trainsteps)\n",
    "acc = np.zeros(trainsteps)\n",
    "\n",
    "\n",
    "with tf.Session() as sess:\n",
    "    sess.run(tf.global_variables_initializer())\n",
    "    for step in range(trainsteps):\n",
    "        batch, batch_diff = getbatch(imgs_train, batchsize)\n",
    "        _,l[step] = sess.run([train_op,loss], feed_dict={img1: batch[0,:,:,:,:],\n",
    "                                               img2: batch[1,:,:,:,:],\n",
    "                                               diffclass: batch_diff})\n",
    "        if ((step+1)%printstep==0):\n",
    "            print('Step %d: Loss %f, Accuracy %f' % (step,np.mean(l[step-printstep+1:step+1]),\n",
    "                                                     np.mean(acc[step-printstep+1:step+1])))\n",
    "            \n",
    "    saver.save(sess, './checkpoints/model', step)\n",
    "#         print(np.matrix([p[:,0],batch_diff[:,0]]))"
   ]
  },
  {
   "cell_type": "code",
   "execution_count": 16,
   "metadata": {},
   "outputs": [
    {
     "data": {
      "text/plain": [
       "[<matplotlib.lines.Line2D at 0x7f5430052898>]"
      ]
     },
     "execution_count": 16,
     "metadata": {},
     "output_type": "execute_result"
    },
    {
     "data": {
      "image/png": "[encoded data removed]",
      "text/plain": [
       "<Figure size 432x288 with 1 Axes>"
      ]
     },
     "metadata": {
      "needs_background": "light"
     },
     "output_type": "display_data"
    }
   ],
   "source": [
    "plt.plot(l)"
   ]
  },
  {
   "cell_type": "code",
   "execution_count": 17,
   "metadata": {},
   "outputs": [],
   "source": [
    "ckpt = tf.train.get_checkpoint_state(os.path.dirname('checkpoints/model'))"
   ]
  },
  {
   "cell_type": "markdown",
   "metadata": {},
   "source": [
    "## compare image 0 to images 15-19 and find closest match"
   ]
  },
  {
   "cell_type": "code",
   "execution_count": 62,
   "metadata": {},
   "outputs": [],
   "source": [
    "find_img = 10"
   ]
  },
  {
   "cell_type": "code",
   "execution_count": 63,
   "metadata": {},
   "outputs": [
    {
     "data": {
      "text/plain": [
       "<matplotlib.image.AxesImage at 0x7f53a40a9208>"
      ]
     },
     "execution_count": 63,
     "metadata": {},
     "output_type": "execute_result"
    },
    {
     "data": {
      "image/png": "[encoded data removed]",
      "text/plain": [
       "<Figure size 432x288 with 1 Axes>"
      ]
     },
     "metadata": {
      "needs_background": "light"
     },
     "output_type": "display_data"
    }
   ],
   "source": [
    "plt.imshow(imgs_validate[find_img,0,:,:])"
   ]
  },
  {
   "cell_type": "code",
   "execution_count": 64,
   "metadata": {},
   "outputs": [
    {
     "name": "stdout",
     "output_type": "stream",
     "text": [
      "INFO:tensorflow:Restoring parameters from checkpoints/model-4999\n"
     ]
    }
   ],
   "source": [
    "with tf.Session() as sess:\n",
    "    saver.restore(sess, ckpt.model_checkpoint_path)\n",
    "    diff_val=np.zeros([imgs_validate.shape[0],5])\n",
    "    for i in range(imgs_validate.shape[0]):\n",
    "        for j in range(15,20):\n",
    "            diff_val[i][j-15] = sess.run(diff, feed_dict={\n",
    "                img1: np.reshape(imgs_validate[find_img,0,:,:],[1,105,105,1]),\n",
    "                img2: np.reshape(imgs_validate[i,j,:,:],[1,105,105,1])})"
   ]
  },
  {
   "cell_type": "code",
   "execution_count": 65,
   "metadata": {},
   "outputs": [
    {
     "name": "stdout",
     "output_type": "stream",
     "text": [
      "86\n"
     ]
    }
   ],
   "source": [
    "closest_match = np.argmin(np.mean(diff_val,1))\n",
    "print(closest_match)"
   ]
  },
  {
   "cell_type": "code",
   "execution_count": 66,
   "metadata": {},
   "outputs": [
    {
     "name": "stdout",
     "output_type": "stream",
     "text": [
      "[0.12584989 0.11243002 0.16499969 0.13166977 0.17578638]\n",
      "[0.10055229 0.09922133 0.08161438 0.12721711 0.12295942]\n"
     ]
    }
   ],
   "source": [
    "print(diff_val[find_img])\n",
    "print(diff_val[closest_match])"
   ]
  },
  {
   "cell_type": "code",
   "execution_count": 67,
   "metadata": {},
   "outputs": [
    {
     "data": {
      "image/png": "[encoded data removed]",
      "text/plain": [
       "<Figure size 1440x720 with 15 Axes>"
      ]
     },
     "metadata": {
      "needs_background": "light"
     },
     "output_type": "display_data"
    }
   ],
   "source": [
    "fig, ax = plt.subplots(3,5,figsize=(20,10))\n",
    "ax[0,0].imshow(imgs_validate[find_img,0,:,:])\n",
    "for i in range(15,20):\n",
    "    ax[1,i-15].imshow(imgs_validate[find_img,i,:,:])\n",
    "    ax[2,i-15].imshow(imgs_validate[closest_match,i,:,:])  \n",
    "plt.show()"
   ]
  },
  {
   "cell_type": "code",
   "execution_count": null,
   "metadata": {
    "collapsed": true
   },
   "outputs": [],
   "source": []
  }
 ],
 "metadata": {
  "kernelspec": {
   "display_name": "Python 3",
   "language": "python",
   "name": "python3"
  },
  "language_info": {
   "codemirror_mode": {
    "name": "ipython",
    "version": 3
   },
   "file_extension": ".py",
   "mimetype": "text/x-python",
   "name": "python",
   "nbconvert_exporter": "python",
   "pygments_lexer": "ipython3",
   "version": "3.5.2"
  }
 },
 "nbformat": 4,
 "nbformat_minor": 2
}
